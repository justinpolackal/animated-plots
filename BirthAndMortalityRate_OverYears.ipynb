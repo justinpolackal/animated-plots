{
 "cells": [
  {
   "cell_type": "markdown",
   "metadata": {},
   "source": [
    "**Creating Charts that play in the browser**\n",
    "\n",
    "Using the dataset for birth rates and mortality rates per 1000 population, I am trying to create an animated GIF, that shows the progress of India and its neighbouring countries in controlling the mortality rates and birth rates.\n",
    "\n",
    "Gapminder provides socio-economic data which can be freely downloaded from their [website](https://www.gapminder.org/data/)\n",
    "The original datasets were discrete - one CSV file for birthrates, another one for mortality rates and yet another one for population figures.\n",
    "\n",
    "To create the chart, I merged all three of them together for each country and year."
   ]
  },
  {
   "cell_type": "markdown",
   "metadata": {},
   "source": [
    "**Gapminder provides following datasets:**\n",
    "    - birth_rate_per1000_population.csv\n",
    "    - infant_mortality_per1000_births.csv\n",
    "    - total_population_with_projections.csv\n",
    "    \n",
    "I merged the first two datasets into a single csv file - \"bmr_merged.csv\". The python code for the merge operation is [here.](https://github.com/justinpolackal/animated-plots/merge.py) \n",
    "The resultant csv file is loaded into a dataframe below and then subsequently, the population data is also merged on to it, per country and year."
   ]
  },
  {
   "cell_type": "code",
   "execution_count": 225,
   "metadata": {},
   "outputs": [],
   "source": [
    "#import datasets \n",
    "import numpy as np\n",
    "import pandas as pd\n",
    "import matplotlib.pyplot as plt\n",
    "import seaborn as sns\n",
    "%matplotlib inline\n",
    "df=pd.read_csv('./brmr_merged.csv')     #preprocessed data, derived from Gapminder original data sets\n",
    "popdf = pd.read_csv('./population.csv') #population data"
   ]
  },
  {
   "cell_type": "code",
   "execution_count": 116,
   "metadata": {},
   "outputs": [
    {
     "name": "stdout",
     "output_type": "stream",
     "text": [
      "<class 'pandas.core.frame.DataFrame'>\n",
      "RangeIndex: 56376 entries, 0 to 56375\n",
      "Data columns (total 4 columns):\n",
      "Country                       56160 non-null object\n",
      "Year                          56160 non-null float64\n",
      "BirthRatePer1000Population    43284 non-null float64\n",
      "MortalityRatePer1000Births    13776 non-null object\n",
      "dtypes: float64(2), object(2)\n",
      "memory usage: 1.7+ MB\n"
     ]
    }
   ],
   "source": [
    "df.info()"
   ]
  },
  {
   "cell_type": "code",
   "execution_count": 25,
   "metadata": {},
   "outputs": [
    {
     "data": {
      "text/html": [
       "<div>\n",
       "<style scoped>\n",
       "    .dataframe tbody tr th:only-of-type {\n",
       "        vertical-align: middle;\n",
       "    }\n",
       "\n",
       "    .dataframe tbody tr th {\n",
       "        vertical-align: top;\n",
       "    }\n",
       "\n",
       "    .dataframe thead th {\n",
       "        text-align: right;\n",
       "    }\n",
       "</style>\n",
       "<table border=\"1\" class=\"dataframe\">\n",
       "  <thead>\n",
       "    <tr style=\"text-align: right;\">\n",
       "      <th></th>\n",
       "      <th>Country</th>\n",
       "      <th>Year</th>\n",
       "      <th>BirthRatePer1000Population</th>\n",
       "      <th>MortalityRatePer1000Births</th>\n",
       "    </tr>\n",
       "  </thead>\n",
       "  <tbody>\n",
       "    <tr>\n",
       "      <th>366</th>\n",
       "      <td>Afghanistan</td>\n",
       "      <td>1950.0</td>\n",
       "      <td>50.008</td>\n",
       "      <td>NaN</td>\n",
       "    </tr>\n",
       "    <tr>\n",
       "      <th>4038</th>\n",
       "      <td>Bangladesh</td>\n",
       "      <td>1950.0</td>\n",
       "      <td>44.906</td>\n",
       "      <td>NaN</td>\n",
       "    </tr>\n",
       "    <tr>\n",
       "      <th>9654</th>\n",
       "      <td>China</td>\n",
       "      <td>1950.0</td>\n",
       "      <td>46.907</td>\n",
       "      <td>195</td>\n",
       "    </tr>\n",
       "    <tr>\n",
       "      <th>21966</th>\n",
       "      <td>India</td>\n",
       "      <td>1950.0</td>\n",
       "      <td>43.966</td>\n",
       "      <td>164</td>\n",
       "    </tr>\n",
       "    <tr>\n",
       "      <th>34062</th>\n",
       "      <td>Nepal</td>\n",
       "      <td>1950.0</td>\n",
       "      <td>48.558</td>\n",
       "      <td>NaN</td>\n",
       "    </tr>\n",
       "    <tr>\n",
       "      <th>37302</th>\n",
       "      <td>Pakistan</td>\n",
       "      <td>1950.0</td>\n",
       "      <td>41.399</td>\n",
       "      <td>279.6</td>\n",
       "    </tr>\n",
       "    <tr>\n",
       "      <th>46374</th>\n",
       "      <td>Sri Lanka</td>\n",
       "      <td>1950.0</td>\n",
       "      <td>35.617</td>\n",
       "      <td>94.8</td>\n",
       "    </tr>\n",
       "  </tbody>\n",
       "</table>\n",
       "</div>"
      ],
      "text/plain": [
       "           Country    Year  BirthRatePer1000Population  \\\n",
       "366    Afghanistan  1950.0                      50.008   \n",
       "4038    Bangladesh  1950.0                      44.906   \n",
       "9654         China  1950.0                      46.907   \n",
       "21966        India  1950.0                      43.966   \n",
       "34062        Nepal  1950.0                      48.558   \n",
       "37302     Pakistan  1950.0                      41.399   \n",
       "46374    Sri Lanka  1950.0                      35.617   \n",
       "\n",
       "      MortalityRatePer1000Births  \n",
       "366                          NaN  \n",
       "4038                         NaN  \n",
       "9654                         195  \n",
       "21966                        164  \n",
       "34062                        NaN  \n",
       "37302                      279.6  \n",
       "46374                       94.8  "
      ]
     },
     "execution_count": 25,
     "metadata": {},
     "output_type": "execute_result"
    }
   ],
   "source": [
    "df.loc[(df['Country'].isin(['Afghanistan','Bangladesh','China','India','Nepal','Pakistan','Sri Lanka'])) & (df['Year']==1950)]"
   ]
  },
  {
   "cell_type": "markdown",
   "metadata": {},
   "source": [
    "Create a subset of data for the countries that we are interested in"
   ]
  },
  {
   "cell_type": "code",
   "execution_count": 48,
   "metadata": {},
   "outputs": [
    {
     "data": {
      "text/html": [
       "<div>\n",
       "<style scoped>\n",
       "    .dataframe tbody tr th:only-of-type {\n",
       "        vertical-align: middle;\n",
       "    }\n",
       "\n",
       "    .dataframe tbody tr th {\n",
       "        vertical-align: top;\n",
       "    }\n",
       "\n",
       "    .dataframe thead th {\n",
       "        text-align: right;\n",
       "    }\n",
       "</style>\n",
       "<table border=\"1\" class=\"dataframe\">\n",
       "  <thead>\n",
       "    <tr style=\"text-align: right;\">\n",
       "      <th></th>\n",
       "      <th>Country</th>\n",
       "      <th>Year</th>\n",
       "      <th>BirthRatePer1000Population</th>\n",
       "      <th>MortalityRatePer1000Births</th>\n",
       "    </tr>\n",
       "  </thead>\n",
       "  <tbody>\n",
       "    <tr>\n",
       "      <th>216</th>\n",
       "      <td>Afghanistan</td>\n",
       "      <td>1800.0</td>\n",
       "      <td>48.136</td>\n",
       "      <td>NaN</td>\n",
       "    </tr>\n",
       "    <tr>\n",
       "      <th>217</th>\n",
       "      <td>Afghanistan</td>\n",
       "      <td>1801.0</td>\n",
       "      <td>48.136</td>\n",
       "      <td>NaN</td>\n",
       "    </tr>\n",
       "    <tr>\n",
       "      <th>218</th>\n",
       "      <td>Afghanistan</td>\n",
       "      <td>1802.0</td>\n",
       "      <td>48.136</td>\n",
       "      <td>NaN</td>\n",
       "    </tr>\n",
       "    <tr>\n",
       "      <th>219</th>\n",
       "      <td>Afghanistan</td>\n",
       "      <td>1803.0</td>\n",
       "      <td>48.136</td>\n",
       "      <td>NaN</td>\n",
       "    </tr>\n",
       "    <tr>\n",
       "      <th>220</th>\n",
       "      <td>Afghanistan</td>\n",
       "      <td>1804.0</td>\n",
       "      <td>48.136</td>\n",
       "      <td>NaN</td>\n",
       "    </tr>\n",
       "  </tbody>\n",
       "</table>\n",
       "</div>"
      ],
      "text/plain": [
       "         Country    Year  BirthRatePer1000Population  \\\n",
       "216  Afghanistan  1800.0                      48.136   \n",
       "217  Afghanistan  1801.0                      48.136   \n",
       "218  Afghanistan  1802.0                      48.136   \n",
       "219  Afghanistan  1803.0                      48.136   \n",
       "220  Afghanistan  1804.0                      48.136   \n",
       "\n",
       "    MortalityRatePer1000Births  \n",
       "216                        NaN  \n",
       "217                        NaN  \n",
       "218                        NaN  \n",
       "219                        NaN  \n",
       "220                        NaN  "
      ]
     },
     "execution_count": 48,
     "metadata": {},
     "output_type": "execute_result"
    }
   ],
   "source": [
    "mydf=df.loc[(df['Country'].isin(['Afghanistan','Bangladesh','China','India','Nepal','Pakistan','Sri Lanka']))].copy()\n",
    "mydf.head()"
   ]
  },
  {
   "cell_type": "markdown",
   "metadata": {},
   "source": [
    "For each country, there may be missing values for birthrate, mortalityrate or population. The below code tries to forward fill the values for such rows from the previous non-null value. "
   ]
  },
  {
   "cell_type": "code",
   "execution_count": 229,
   "metadata": {},
   "outputs": [],
   "source": [
    "#Preprocess the data \n",
    "#\n",
    "\n",
    "#Select a subset of records from the gapminder data for India and a few of its neighbouring countries\n",
    "mydf=df.loc[(df['Country'].isin(['Afghanistan','Bangladesh','China','India','Nepal','Pakistan','Sri Lanka']))].copy()\n",
    "#Merge population data\n",
    "mydf=mydf.merge(popdf, how=\"left\", on=[\"Country\",\"Year\"])\n",
    "mydf['Population'] = mydf['Population']/1000000   #population in millions\n",
    "\n",
    "newdf = pd.DataFrame()\n",
    "clist = ['Afghanistan','Bangladesh','China','India','Nepal','Pakistan','Sri Lanka']\n",
    "#\n",
    "# Forward fill birth rates and mortality rates, if some cells are blank\n",
    "#\n",
    "for c in clist:\n",
    "    cdf = mydf.loc[mydf['Country']==c].copy()\n",
    "    cdf['BirthRatePer1000Population'].replace(to_replace=np.nan, method='ffill', inplace=True)\n",
    "    cdf['MortalityRatePer1000Births'].replace(to_replace=np.nan, method='ffill', inplace=True)\n",
    "    cdf['Population'].replace(to_replace=np.nan, method='ffill', inplace=True)\n",
    "    \n",
    "    newdf = pd.concat([newdf,cdf], ignore_index = True)\n",
    "\n",
    "# Reset index and delete records where birthrate or mortality rates are still NaNs\n",
    "newdf.reset_index(inplace=True, drop=True)    \n",
    "newdf.drop(newdf[newdf['MortalityRatePer1000Births'].isnull()].index, inplace=True)\n",
    "newdf.drop(newdf[newdf['BirthRatePer1000Population'].isnull()].index, inplace=True)  \n",
    "\n",
    "mydf['MortalityRatePer1000Births'] = pd.to_numeric(mydf['MortalityRatePer1000Births'], errors=\"ignore\")\n",
    "\n",
    "# Store the result to csv (only for verification)\n",
    "newdf.to_csv('./ffill.csv')\n"
   ]
  },
  {
   "cell_type": "code",
   "execution_count": 230,
   "metadata": {},
   "outputs": [
    {
     "data": {
      "text/plain": [
       "286.7"
      ]
     },
     "execution_count": 230,
     "metadata": {},
     "output_type": "execute_result"
    }
   ],
   "source": [
    "# Convert all numeric columns to numeric\n",
    "newdf=newdf.apply(pd.to_numeric,errors='ignore')\n",
    "#newdf.info()\n",
    "newdf['MortalityRatePer1000Births'].max()"
   ]
  },
  {
   "cell_type": "code",
   "execution_count": 232,
   "metadata": {},
   "outputs": [
    {
     "name": "stdout",
     "output_type": "stream",
     "text": [
      "<class 'pandas.core.frame.DataFrame'>\n",
      "Int64Index: 490 entries, 160 to 1511\n",
      "Data columns (total 5 columns):\n",
      "Country                       490 non-null object\n",
      "Year                          490 non-null float64\n",
      "BirthRatePer1000Population    490 non-null float64\n",
      "MortalityRatePer1000Births    490 non-null float64\n",
      "Population                    490 non-null float64\n",
      "dtypes: float64(4), object(1)\n",
      "memory usage: 23.0+ KB\n"
     ]
    }
   ],
   "source": [
    "newdf.info()"
   ]
  },
  {
   "cell_type": "markdown",
   "metadata": {},
   "source": [
    "**Generate PNG files **\n",
    "\n",
    "Loop through each year and generate a PNG file for that year. 1950-2014 range will have one image per year."
   ]
  },
  {
   "cell_type": "code",
   "execution_count": 245,
   "metadata": {},
   "outputs": [],
   "source": [
    "startyear = 1950\n",
    "endyear=2015\n",
    "for year in np.arange(startyear,endyear,1):\n",
    "    #year = 1960\n",
    "    gdf = newdf[newdf['Year']==year]\n",
    "    maxx = newdf['MortalityRatePer1000Births'].max()+10\n",
    "    maxy = newdf['BirthRatePer1000Population'].max()+10\n",
    "    clist ={\"Afghanistan\":'black','Bangladesh':'orange','China':'red','India':'blue','Nepal':'purple','Pakistan':'green','Sri Lanka':'brown'}\n",
    "    bubble_linecolor = 'None'\n",
    "    legend_labels=[]\n",
    "    legend_lines=[]\n",
    "    \n",
    "    fig = plt.figure()\n",
    "    ax = plt.axes()\n",
    "    ax.set_title(\"Mortality Vs Birth Rate per 1000 People: \" + str(year), fontsize=16)\n",
    "    ax.set_xlabel(\"Mortality Rate\", fontsize=14)\n",
    "    ax.set_ylabel(\"Birth Rate\", fontsize=14)\n",
    "    for key in clist:\n",
    "        #bubblesize=12\n",
    "        bubblesize = 12 + (gdf.loc[gdf['Country']==key,'Population'].max()/100)\n",
    "        #bubble_linecolor = clist[key]\n",
    "        bubble_linecolor = 'skyblue'\n",
    "        cline, =plt.plot('MortalityRatePer1000Births', 'BirthRatePer1000Population', data=gdf[gdf['Country']==key], marker='o', markerfacecolor=clist[key], markersize=bubblesize, color=bubble_linecolor, linewidth=4)\n",
    "        legend_labels.append(key)\n",
    "        legend_lines.append(cline)\n",
    "\n",
    "    plt.xlim(0, maxx)\n",
    "    plt.ylim(0, maxy);\n",
    "    plt.legend(handles=legend_lines, labels=legend_labels,bbox_to_anchor=(1.04,0.5), loc=\"center left\", borderaxespad=0)\n",
    "    \n",
    "    fig.savefig('./savedfigures/' + str(year) + '.png', bbox_inches = \"tight\")\n",
    "    plt.close('all')"
   ]
  },
  {
   "cell_type": "markdown",
   "metadata": {},
   "source": [
    "**Convert the sequence of generated PNG files into an animated GIF**\n",
    "\n",
    "Using imageio package, stack all the PNG files generated in the previous step to create an animated GIF that plays the progress of mortality and birthrates"
   ]
  },
  {
   "cell_type": "code",
   "execution_count": 246,
   "metadata": {},
   "outputs": [],
   "source": [
    "import imageio\n",
    "import os\n",
    "import os.path\n",
    "import sys"
   ]
  },
  {
   "cell_type": "code",
   "execution_count": 247,
   "metadata": {},
   "outputs": [],
   "source": [
    "def fileExists(path,fname):\n",
    "    return os.path.isfile(path + fname)\n"
   ]
  },
  {
   "cell_type": "code",
   "execution_count": 255,
   "metadata": {},
   "outputs": [],
   "source": [
    "pngfilenums = np.arange(startyear,endyear,1)\n",
    "path = './savedfigures/'\n",
    "images = []\n",
    "for filenum in pngfilenums:\n",
    "    filename = str(filenum) + '.png'\n",
    "    if(fileExists(path,filename)):\n",
    "        images.append(imageio.imread(path+filename))\n",
    "imageio.mimsave('./movie.gif', images, duration = 0.4)"
   ]
  },
  {
   "cell_type": "code",
   "execution_count": null,
   "metadata": {},
   "outputs": [],
   "source": []
  }
 ],
 "metadata": {
  "kernelspec": {
   "display_name": "Python 3",
   "language": "python",
   "name": "python3"
  },
  "language_info": {
   "codemirror_mode": {
    "name": "ipython",
    "version": 3
   },
   "file_extension": ".py",
   "mimetype": "text/x-python",
   "name": "python",
   "nbconvert_exporter": "python",
   "pygments_lexer": "ipython3",
   "version": "3.6.5"
  }
 },
 "nbformat": 4,
 "nbformat_minor": 2
}
